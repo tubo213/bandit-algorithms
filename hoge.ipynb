{
 "cells": [
  {
   "cell_type": "code",
   "execution_count": 2,
   "metadata": {},
   "outputs": [],
   "source": [
    "import numpy as np\n",
    "from src.policy.multiple_play.contextfree import MultiplePlayRandomPolicy"
   ]
  },
  {
   "cell_type": "code",
   "execution_count": 3,
   "metadata": {},
   "outputs": [],
   "source": [
    "policy = MultiplePlayRandomPolicy(10, 3)"
   ]
  },
  {
   "cell_type": "code",
   "execution_count": 4,
   "metadata": {},
   "outputs": [],
   "source": [
    "a = np.arange(10)"
   ]
  },
  {
   "cell_type": "code",
   "execution_count": 141,
   "metadata": {},
   "outputs": [],
   "source": [
    "cnt = np.random.randint(0, 10, size=(10, 3)) + 1\n",
    "reward = np.random.binomial(1, 0.5, size=(10, 3))"
   ]
  },
  {
   "cell_type": "code",
   "execution_count": 144,
   "metadata": {},
   "outputs": [
    {
     "data": {
      "text/plain": [
       "0.6978389146803373"
      ]
     },
     "execution_count": 144,
     "metadata": {},
     "output_type": "execute_result"
    }
   ],
   "source": [
    "n_kl = cnt[0]\n",
    "s_kl = reward[0]\n",
    "kappa = np.array([1, 0.5, 0.1])\n",
    "delta = 0.1\n",
    "\n",
    "f(q, kappa, n_kl, s_kl)"
   ]
  },
  {
   "cell_type": "code",
   "execution_count": 155,
   "metadata": {},
   "outputs": [],
   "source": [
    "from scipy import optimize as opt\n",
    "\n",
    "def compute_U(kappa, n_kl, s_kl, delta):\n",
    "    def kl(p, q, eps=1e-7):\n",
    "        return p * np.log(p / q + eps) + (1 - p) * np.log((1 - p) / (1 - q) + eps)\n",
    "\n",
    "    def f(q, kappa, n_kl, s_kl):\n",
    "        theta = s_kl / n_kl\n",
    "        d = kl(theta, kappa * q)\n",
    "        return (theta * d).sum()\n",
    "\n",
    "    min_theta = opt.minimize_scalar(f, args=(kappa, n_kl, s_kl), bounds=(0, 1), method=\"bounded\").x\n",
    "    cons = {\n",
    "        \"type\": \"ineq\",\n",
    "        \"fun\": lambda q: delta - f(q, kappa, n_kl, s_kl),\n",
    "    }\n",
    "    x0 = np.array(min_theta)\n",
    "    bounds = [(min_theta, 1)]\n",
    "    return opt.minimize(lambda q: -q, x0=x0, constraints=cons, method=\"SLSQP\", bounds=bounds).x"
   ]
  },
  {
   "cell_type": "code",
   "execution_count": 169,
   "metadata": {},
   "outputs": [
    {
     "data": {
      "text/plain": [
       "[array([1.]),\n",
       " array([0.472315]),\n",
       " array([0.78708876]),\n",
       " array([1.]),\n",
       " array([1.]),\n",
       " array([1.]),\n",
       " array([0.75937932]),\n",
       " array([1.]),\n",
       " array([1.]),\n",
       " array([1.])]"
      ]
     },
     "execution_count": 169,
     "metadata": {},
     "output_type": "execute_result"
    }
   ],
   "source": [
    "[\n",
    "    compute_U(kappa, n_kl, s_kl, delta) for n_kl, s_kl in zip(cnt, reward)\n",
    "]"
   ]
  }
 ],
 "metadata": {
  "kernelspec": {
   "display_name": ".venv",
   "language": "python",
   "name": "python3"
  },
  "language_info": {
   "codemirror_mode": {
    "name": "ipython",
    "version": 3
   },
   "file_extension": ".py",
   "mimetype": "text/x-python",
   "name": "python",
   "nbconvert_exporter": "python",
   "pygments_lexer": "ipython3",
   "version": "3.11.3"
  },
  "orig_nbformat": 4
 },
 "nbformat": 4,
 "nbformat_minor": 2
}
